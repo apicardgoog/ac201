{
 "cells": [
  {
   "cell_type": "code",
   "execution_count": 1,
   "metadata": {},
   "outputs": [],
   "source": [
    "%load_ext sql"
   ]
  },
  {
   "cell_type": "code",
   "execution_count": 3,
   "metadata": {},
   "outputs": [
    {
     "name": "stdout",
     "output_type": "stream",
     "text": [
      "Done.\n"
     ]
    },
    {
     "data": {
      "text/html": [
       "<table>\n",
       "    <tr>\n",
       "        <th>index</th>\n",
       "        <th>duration</th>\n",
       "        <th>start_date</th>\n",
       "        <th>end_date</th>\n",
       "        <th>start_station</th>\n",
       "        <th>end_station</th>\n",
       "        <th>bike_number</th>\n",
       "        <th>member_type</th>\n",
       "    </tr>\n",
       "    <tr>\n",
       "        <td>0</td>\n",
       "        <td>3548</td>\n",
       "        <td>2011-01-01 00:01:29.000000</td>\n",
       "        <td>2011-01-01 01:00:37.000000</td>\n",
       "        <td>31620</td>\n",
       "        <td>31620</td>\n",
       "        <td>W00247</td>\n",
       "        <td>Member</td>\n",
       "    </tr>\n",
       "    <tr>\n",
       "        <td>1</td>\n",
       "        <td>346</td>\n",
       "        <td>2011-01-01 00:02:46.000000</td>\n",
       "        <td>2011-01-01 00:08:32.000000</td>\n",
       "        <td>31105</td>\n",
       "        <td>31101</td>\n",
       "        <td>W00675</td>\n",
       "        <td>Casual</td>\n",
       "    </tr>\n",
       "    <tr>\n",
       "        <td>2</td>\n",
       "        <td>562</td>\n",
       "        <td>2011-01-01 00:06:13.000000</td>\n",
       "        <td>2011-01-01 00:15:36.000000</td>\n",
       "        <td>31400</td>\n",
       "        <td>31104</td>\n",
       "        <td>W00357</td>\n",
       "        <td>Member</td>\n",
       "    </tr>\n",
       "    <tr>\n",
       "        <td>3</td>\n",
       "        <td>434</td>\n",
       "        <td>2011-01-01 00:09:21.000000</td>\n",
       "        <td>2011-01-01 00:16:36.000000</td>\n",
       "        <td>31111</td>\n",
       "        <td>31503</td>\n",
       "        <td>W00970</td>\n",
       "        <td>Member</td>\n",
       "    </tr>\n",
       "    <tr>\n",
       "        <td>4</td>\n",
       "        <td>233</td>\n",
       "        <td>2011-01-01 00:28:26.000000</td>\n",
       "        <td>2011-01-01 00:32:19.000000</td>\n",
       "        <td>31104</td>\n",
       "        <td>31106</td>\n",
       "        <td>W00346</td>\n",
       "        <td>Casual</td>\n",
       "    </tr>\n",
       "    <tr>\n",
       "        <td>5</td>\n",
       "        <td>158</td>\n",
       "        <td>2011-01-01 00:32:33.000000</td>\n",
       "        <td>2011-01-01 00:35:11.000000</td>\n",
       "        <td>31605</td>\n",
       "        <td>31618</td>\n",
       "        <td>W01033</td>\n",
       "        <td>Member</td>\n",
       "    </tr>\n",
       "    <tr>\n",
       "        <td>6</td>\n",
       "        <td>560</td>\n",
       "        <td>2011-01-01 00:35:48.000000</td>\n",
       "        <td>2011-01-01 00:45:09.000000</td>\n",
       "        <td>31203</td>\n",
       "        <td>31201</td>\n",
       "        <td>W00766</td>\n",
       "        <td>Member</td>\n",
       "    </tr>\n",
       "    <tr>\n",
       "        <td>7</td>\n",
       "        <td>503</td>\n",
       "        <td>2011-01-01 00:36:42.000000</td>\n",
       "        <td>2011-01-01 00:45:05.000000</td>\n",
       "        <td>31203</td>\n",
       "        <td>31201</td>\n",
       "        <td>W00506</td>\n",
       "        <td>Member</td>\n",
       "    </tr>\n",
       "    <tr>\n",
       "        <td>8</td>\n",
       "        <td>449</td>\n",
       "        <td>2011-01-01 00:45:55.000000</td>\n",
       "        <td>2011-01-01 00:53:24.000000</td>\n",
       "        <td>31201</td>\n",
       "        <td>31202</td>\n",
       "        <td>W00506</td>\n",
       "        <td>Member</td>\n",
       "    </tr>\n",
       "    <tr>\n",
       "        <td>9</td>\n",
       "        <td>442</td>\n",
       "        <td>2011-01-01 00:46:06.000000</td>\n",
       "        <td>2011-01-01 00:53:28.000000</td>\n",
       "        <td>31201</td>\n",
       "        <td>31202</td>\n",
       "        <td>W00766</td>\n",
       "        <td>Member</td>\n",
       "    </tr>\n",
       "</table>"
      ],
      "text/plain": [
       "[(0, 3548, '2011-01-01 00:01:29.000000', '2011-01-01 01:00:37.000000', 31620, 31620, 'W00247', 'Member'),\n",
       " (1, 346, '2011-01-01 00:02:46.000000', '2011-01-01 00:08:32.000000', 31105, 31101, 'W00675', 'Casual'),\n",
       " (2, 562, '2011-01-01 00:06:13.000000', '2011-01-01 00:15:36.000000', 31400, 31104, 'W00357', 'Member'),\n",
       " (3, 434, '2011-01-01 00:09:21.000000', '2011-01-01 00:16:36.000000', 31111, 31503, 'W00970', 'Member'),\n",
       " (4, 233, '2011-01-01 00:28:26.000000', '2011-01-01 00:32:19.000000', 31104, 31106, 'W00346', 'Casual'),\n",
       " (5, 158, '2011-01-01 00:32:33.000000', '2011-01-01 00:35:11.000000', 31605, 31618, 'W01033', 'Member'),\n",
       " (6, 560, '2011-01-01 00:35:48.000000', '2011-01-01 00:45:09.000000', 31203, 31201, 'W00766', 'Member'),\n",
       " (7, 503, '2011-01-01 00:36:42.000000', '2011-01-01 00:45:05.000000', 31203, 31201, 'W00506', 'Member'),\n",
       " (8, 449, '2011-01-01 00:45:55.000000', '2011-01-01 00:53:24.000000', 31201, 31202, 'W00506', 'Member'),\n",
       " (9, 442, '2011-01-01 00:46:06.000000', '2011-01-01 00:53:28.000000', 31201, 31202, 'W00766', 'Member')]"
      ]
     },
     "execution_count": 3,
     "metadata": {},
     "output_type": "execute_result"
    }
   ],
   "source": [
    "%%sql sqlite:///bikeshare.db\n",
    "SELECT\n",
    "  *\n",
    "FROM\n",
    "  trip_data\n",
    "LIMIT\n",
    "  10"
   ]
  },
  {
   "cell_type": "markdown",
   "metadata": {},
   "source": [
    "What were the 10 bikes that got most used by members (in terms of duration, not number of rides)?\n"
   ]
  },
  {
   "cell_type": "code",
   "execution_count": 7,
   "metadata": {},
   "outputs": [
    {
     "name": "stdout",
     "output_type": "stream",
     "text": [
      "Done.\n"
     ]
    },
    {
     "data": {
      "text/html": [
       "<table>\n",
       "    <tr>\n",
       "        <th>bike_number</th>\n",
       "        <th>total_duration</th>\n",
       "    </tr>\n",
       "    <tr>\n",
       "        <td>W00427</td>\n",
       "        <td>1972792</td>\n",
       "    </tr>\n",
       "    <tr>\n",
       "        <td>W00121</td>\n",
       "        <td>1949010</td>\n",
       "    </tr>\n",
       "    <tr>\n",
       "        <td>W01015</td>\n",
       "        <td>1938801</td>\n",
       "    </tr>\n",
       "    <tr>\n",
       "        <td>W01039</td>\n",
       "        <td>1916543</td>\n",
       "    </tr>\n",
       "    <tr>\n",
       "        <td>W00730</td>\n",
       "        <td>1910715</td>\n",
       "    </tr>\n",
       "    <tr>\n",
       "        <td>W00439</td>\n",
       "        <td>1907762</td>\n",
       "    </tr>\n",
       "    <tr>\n",
       "        <td>W00764</td>\n",
       "        <td>1893303</td>\n",
       "    </tr>\n",
       "    <tr>\n",
       "        <td>w00223</td>\n",
       "        <td>1888296</td>\n",
       "    </tr>\n",
       "    <tr>\n",
       "        <td>W00164</td>\n",
       "        <td>1885402</td>\n",
       "    </tr>\n",
       "    <tr>\n",
       "        <td>W00757</td>\n",
       "        <td>1878195</td>\n",
       "    </tr>\n",
       "</table>"
      ],
      "text/plain": [
       "[('W00427', 1972792),\n",
       " ('W00121', 1949010),\n",
       " ('W01015', 1938801),\n",
       " ('W01039', 1916543),\n",
       " ('W00730', 1910715),\n",
       " ('W00439', 1907762),\n",
       " ('W00764', 1893303),\n",
       " ('w00223', 1888296),\n",
       " ('W00164', 1885402),\n",
       " ('W00757', 1878195)]"
      ]
     },
     "execution_count": 7,
     "metadata": {},
     "output_type": "execute_result"
    }
   ],
   "source": [
    "%%sql sqlite:///bikeshare.db\n",
    "SELECT bike_number, SUM(duration) AS total_duration\n",
    "FROM trip_data\n",
    "GROUP BY bike_number\n",
    "ORDER BY total_duration DESC\n",
    "LIMIT 10"
   ]
  },
  {
   "cell_type": "markdown",
   "metadata": {},
   "source": [
    "What are the stations that most frequently used to drop-off bikes picked up elsewhere (excluding rides that started and ended at the same station, count the number of rides ending at each station)?\n"
   ]
  },
  {
   "cell_type": "code",
   "execution_count": 11,
   "metadata": {},
   "outputs": [
    {
     "name": "stdout",
     "output_type": "stream",
     "text": [
      "Done.\n"
     ]
    },
    {
     "data": {
      "text/html": [
       "<table>\n",
       "    <tr>\n",
       "        <th>end_station</th>\n",
       "        <th>num_rides</th>\n",
       "    </tr>\n",
       "    <tr>\n",
       "        <td>31200</td>\n",
       "        <td>51894</td>\n",
       "    </tr>\n",
       "    <tr>\n",
       "        <td>31201</td>\n",
       "        <td>35811</td>\n",
       "    </tr>\n",
       "    <tr>\n",
       "        <td>31623</td>\n",
       "        <td>31410</td>\n",
       "    </tr>\n",
       "    <tr>\n",
       "        <td>31214</td>\n",
       "        <td>28286</td>\n",
       "    </tr>\n",
       "    <tr>\n",
       "        <td>31104</td>\n",
       "        <td>25544</td>\n",
       "    </tr>\n",
       "    <tr>\n",
       "        <td>31101</td>\n",
       "        <td>24677</td>\n",
       "    </tr>\n",
       "    <tr>\n",
       "        <td>31228</td>\n",
       "        <td>24285</td>\n",
       "    </tr>\n",
       "    <tr>\n",
       "        <td>31205</td>\n",
       "        <td>24153</td>\n",
       "    </tr>\n",
       "    <tr>\n",
       "        <td>31203</td>\n",
       "        <td>23753</td>\n",
       "    </tr>\n",
       "    <tr>\n",
       "        <td>31229</td>\n",
       "        <td>23275</td>\n",
       "    </tr>\n",
       "</table>"
      ],
      "text/plain": [
       "[(31200, 51894),\n",
       " (31201, 35811),\n",
       " (31623, 31410),\n",
       " (31214, 28286),\n",
       " (31104, 25544),\n",
       " (31101, 24677),\n",
       " (31228, 24285),\n",
       " (31205, 24153),\n",
       " (31203, 23753),\n",
       " (31229, 23275)]"
      ]
     },
     "execution_count": 11,
     "metadata": {},
     "output_type": "execute_result"
    }
   ],
   "source": [
    "%%sql sqlite:///bikeshare.db\n",
    "SELECT end_station, count(*) AS num_rides\n",
    "FROM trip_data\n",
    "WHERE start_station != end_station\n",
    "\n",
    "GROUP BY end_station\n",
    "ORDER BY num_rides DESC\n",
    "LIMIT 10"
   ]
  },
  {
   "cell_type": "code",
   "execution_count": null,
   "metadata": {},
   "outputs": [],
   "source": []
  }
 ],
 "metadata": {
  "kernelspec": {
   "display_name": "Python 3",
   "language": "python",
   "name": "python3"
  },
  "language_info": {
   "codemirror_mode": {
    "name": "ipython",
    "version": 3
   },
   "file_extension": ".py",
   "mimetype": "text/x-python",
   "name": "python",
   "nbconvert_exporter": "python",
   "pygments_lexer": "ipython3",
   "version": "3.6.7"
  }
 },
 "nbformat": 4,
 "nbformat_minor": 2
}
