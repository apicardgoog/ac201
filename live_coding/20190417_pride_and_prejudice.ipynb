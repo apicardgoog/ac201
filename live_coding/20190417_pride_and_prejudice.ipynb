{
 "cells": [
  {
   "cell_type": "code",
   "execution_count": 40,
   "metadata": {},
   "outputs": [],
   "source": [
    "import pandas as pd\n",
    "import altair as alt\n",
    "import warnings\n",
    "import string\n",
    "\n",
    "warnings.filterwarnings('ignore')\n",
    "f = open(\"pride.txt\")"
   ]
  },
  {
   "cell_type": "code",
   "execution_count": 63,
   "metadata": {},
   "outputs": [
    {
     "name": "stdout",
     "output_type": "stream",
     "text": [
      "['the', 'be', 'and', 'of', 'a', 'in', 'to', 'have', 'to', 'it']\n"
     ]
    }
   ],
   "source": [
    "common_words_file = open(\"words5000.csv\")\n",
    "common_words = []\n",
    "lines = common_words_file.readlines()\n",
    "common_words_file.close()\n",
    "for line in lines[1:101]:\n",
    "    word = line.split(\",\")[1]\n",
    "    common_words.append(word)\n",
    "print(common_words[:10])"
   ]
  },
  {
   "cell_type": "code",
   "execution_count": 41,
   "metadata": {},
   "outputs": [],
   "source": [
    "chapter = 0\n",
    "word_chapters = []\n",
    "\n",
    "for line in f:\n",
    "    words = line.split()\n",
    "    if not words:\n",
    "        continue\n",
    "    if words[0] == \"Chapter\":\n",
    "        chapter = int(words[1])\n",
    "        word_chapters.append({})\n",
    "    elif chapter > 0:\n",
    "        for w in words:\n",
    "            w = w.lower().strip(string.punctuation).strip(\"““\")\n",
    "            if w not in word_chapters[-1]:\n",
    "                word_chapters[-1][w] = 0\n",
    "            word_chapters[-1][w] += 1"
   ]
  },
  {
   "cell_type": "code",
   "execution_count": 83,
   "metadata": {},
   "outputs": [],
   "source": [
    "word_tuples = []\n",
    "for i in range(len(word_chapters)):\n",
    "    word_count_dict = word_chapters[i]\n",
    "    for word in word_count_dict:\n",
    "        if word not in common_words and word not in [\"i\", \"was\", \"had\", \"is\", \"were\", \"been\", \"are\", \"mr\", \"has\", \"did\", \"an\"]: \n",
    "            count = word_count_dict[word]\n",
    "            word_tuples.append((i+1, word, count))"
   ]
  },
  {
   "cell_type": "markdown",
   "metadata": {},
   "source": [
    "What's the most common word in each Chapter?\n"
   ]
  },
  {
   "cell_type": "code",
   "execution_count": 85,
   "metadata": {},
   "outputs": [
    {
     "data": {
      "text/html": [
       "<div>\n",
       "<style scoped>\n",
       "    .dataframe tbody tr th:only-of-type {\n",
       "        vertical-align: middle;\n",
       "    }\n",
       "\n",
       "    .dataframe tbody tr th {\n",
       "        vertical-align: top;\n",
       "    }\n",
       "\n",
       "    .dataframe thead th {\n",
       "        text-align: right;\n",
       "    }\n",
       "</style>\n",
       "<table border=\"1\" class=\"dataframe\">\n",
       "  <thead>\n",
       "    <tr style=\"text-align: right;\">\n",
       "      <th></th>\n",
       "      <th>chapter</th>\n",
       "      <th>word</th>\n",
       "      <th>count</th>\n",
       "    </tr>\n",
       "  </thead>\n",
       "  <tbody>\n",
       "    <tr>\n",
       "      <th>22788</th>\n",
       "      <td>43</td>\n",
       "      <td>elizabeth</td>\n",
       "      <td>36</td>\n",
       "    </tr>\n",
       "    <tr>\n",
       "      <th>8445</th>\n",
       "      <td>18</td>\n",
       "      <td>darcy</td>\n",
       "      <td>30</td>\n",
       "    </tr>\n",
       "    <tr>\n",
       "      <th>7094</th>\n",
       "      <td>16</td>\n",
       "      <td>very</td>\n",
       "      <td>28</td>\n",
       "    </tr>\n",
       "    <tr>\n",
       "      <th>25975</th>\n",
       "      <td>47</td>\n",
       "      <td>such</td>\n",
       "      <td>23</td>\n",
       "    </tr>\n",
       "    <tr>\n",
       "      <th>24548</th>\n",
       "      <td>45</td>\n",
       "      <td>miss</td>\n",
       "      <td>22</td>\n",
       "    </tr>\n",
       "    <tr>\n",
       "      <th>14954</th>\n",
       "      <td>29</td>\n",
       "      <td>lady</td>\n",
       "      <td>21</td>\n",
       "    </tr>\n",
       "    <tr>\n",
       "      <th>30161</th>\n",
       "      <td>53</td>\n",
       "      <td>said</td>\n",
       "      <td>20</td>\n",
       "    </tr>\n",
       "    <tr>\n",
       "      <th>3006</th>\n",
       "      <td>8</td>\n",
       "      <td>bingley</td>\n",
       "      <td>20</td>\n",
       "    </tr>\n",
       "    <tr>\n",
       "      <th>32111</th>\n",
       "      <td>56</td>\n",
       "      <td>elizabeth</td>\n",
       "      <td>19</td>\n",
       "    </tr>\n",
       "    <tr>\n",
       "      <th>4089</th>\n",
       "      <td>10</td>\n",
       "      <td>darcy</td>\n",
       "      <td>18</td>\n",
       "    </tr>\n",
       "    <tr>\n",
       "      <th>31452</th>\n",
       "      <td>55</td>\n",
       "      <td>jane</td>\n",
       "      <td>18</td>\n",
       "    </tr>\n",
       "    <tr>\n",
       "      <th>9656</th>\n",
       "      <td>19</td>\n",
       "      <td>am</td>\n",
       "      <td>18</td>\n",
       "    </tr>\n",
       "    <tr>\n",
       "      <th>13357</th>\n",
       "      <td>26</td>\n",
       "      <td>elizabeth</td>\n",
       "      <td>17</td>\n",
       "    </tr>\n",
       "    <tr>\n",
       "      <th>29455</th>\n",
       "      <td>52</td>\n",
       "      <td>very</td>\n",
       "      <td>16</td>\n",
       "    </tr>\n",
       "    <tr>\n",
       "      <th>23892</th>\n",
       "      <td>44</td>\n",
       "      <td>darcy</td>\n",
       "      <td>16</td>\n",
       "    </tr>\n",
       "    <tr>\n",
       "      <th>25159</th>\n",
       "      <td>46</td>\n",
       "      <td>such</td>\n",
       "      <td>16</td>\n",
       "    </tr>\n",
       "    <tr>\n",
       "      <th>28812</th>\n",
       "      <td>51</td>\n",
       "      <td>elizabeth</td>\n",
       "      <td>15</td>\n",
       "    </tr>\n",
       "    <tr>\n",
       "      <th>28154</th>\n",
       "      <td>50</td>\n",
       "      <td>bennet</td>\n",
       "      <td>15</td>\n",
       "    </tr>\n",
       "    <tr>\n",
       "      <th>34024</th>\n",
       "      <td>59</td>\n",
       "      <td>darcy</td>\n",
       "      <td>15</td>\n",
       "    </tr>\n",
       "    <tr>\n",
       "      <th>16961</th>\n",
       "      <td>33</td>\n",
       "      <td>darcy</td>\n",
       "      <td>15</td>\n",
       "    </tr>\n",
       "    <tr>\n",
       "      <th>512</th>\n",
       "      <td>3</td>\n",
       "      <td>bingley</td>\n",
       "      <td>15</td>\n",
       "    </tr>\n",
       "    <tr>\n",
       "      <th>1678</th>\n",
       "      <td>6</td>\n",
       "      <td>miss</td>\n",
       "      <td>14</td>\n",
       "    </tr>\n",
       "    <tr>\n",
       "      <th>33293</th>\n",
       "      <td>58</td>\n",
       "      <td>elizabeth</td>\n",
       "      <td>14</td>\n",
       "    </tr>\n",
       "    <tr>\n",
       "      <th>2647</th>\n",
       "      <td>7</td>\n",
       "      <td>elizabeth</td>\n",
       "      <td>14</td>\n",
       "    </tr>\n",
       "    <tr>\n",
       "      <th>10160</th>\n",
       "      <td>20</td>\n",
       "      <td>collins</td>\n",
       "      <td>14</td>\n",
       "    </tr>\n",
       "    <tr>\n",
       "      <th>3551</th>\n",
       "      <td>9</td>\n",
       "      <td>very</td>\n",
       "      <td>14</td>\n",
       "    </tr>\n",
       "    <tr>\n",
       "      <th>4770</th>\n",
       "      <td>11</td>\n",
       "      <td>miss</td>\n",
       "      <td>14</td>\n",
       "    </tr>\n",
       "    <tr>\n",
       "      <th>27565</th>\n",
       "      <td>49</td>\n",
       "      <td>elizabeth</td>\n",
       "      <td>13</td>\n",
       "    </tr>\n",
       "    <tr>\n",
       "      <th>16084</th>\n",
       "      <td>31</td>\n",
       "      <td>darcy</td>\n",
       "      <td>13</td>\n",
       "    </tr>\n",
       "    <tr>\n",
       "      <th>12991</th>\n",
       "      <td>25</td>\n",
       "      <td>very</td>\n",
       "      <td>13</td>\n",
       "    </tr>\n",
       "    <tr>\n",
       "      <th>...</th>\n",
       "      <td>...</td>\n",
       "      <td>...</td>\n",
       "      <td>...</td>\n",
       "    </tr>\n",
       "    <tr>\n",
       "      <th>21486</th>\n",
       "      <td>41</td>\n",
       "      <td>very</td>\n",
       "      <td>12</td>\n",
       "    </tr>\n",
       "    <tr>\n",
       "      <th>16541</th>\n",
       "      <td>32</td>\n",
       "      <td>very</td>\n",
       "      <td>12</td>\n",
       "    </tr>\n",
       "    <tr>\n",
       "      <th>10686</th>\n",
       "      <td>21</td>\n",
       "      <td>miss</td>\n",
       "      <td>12</td>\n",
       "    </tr>\n",
       "    <tr>\n",
       "      <th>11836</th>\n",
       "      <td>23</td>\n",
       "      <td>bennet</td>\n",
       "      <td>11</td>\n",
       "    </tr>\n",
       "    <tr>\n",
       "      <th>30899</th>\n",
       "      <td>54</td>\n",
       "      <td>elizabeth</td>\n",
       "      <td>11</td>\n",
       "    </tr>\n",
       "    <tr>\n",
       "      <th>26920</th>\n",
       "      <td>48</td>\n",
       "      <td>bennet</td>\n",
       "      <td>11</td>\n",
       "    </tr>\n",
       "    <tr>\n",
       "      <th>19173</th>\n",
       "      <td>36</td>\n",
       "      <td>herself</td>\n",
       "      <td>11</td>\n",
       "    </tr>\n",
       "    <tr>\n",
       "      <th>21087</th>\n",
       "      <td>40</td>\n",
       "      <td>such</td>\n",
       "      <td>11</td>\n",
       "    </tr>\n",
       "    <tr>\n",
       "      <th>18385</th>\n",
       "      <td>35</td>\n",
       "      <td>wickham</td>\n",
       "      <td>11</td>\n",
       "    </tr>\n",
       "    <tr>\n",
       "      <th>20524</th>\n",
       "      <td>39</td>\n",
       "      <td>such</td>\n",
       "      <td>11</td>\n",
       "    </tr>\n",
       "    <tr>\n",
       "      <th>1001</th>\n",
       "      <td>4</td>\n",
       "      <td>bingley</td>\n",
       "      <td>11</td>\n",
       "    </tr>\n",
       "    <tr>\n",
       "      <th>12520</th>\n",
       "      <td>24</td>\n",
       "      <td>may</td>\n",
       "      <td>11</td>\n",
       "    </tr>\n",
       "    <tr>\n",
       "      <th>6510</th>\n",
       "      <td>15</td>\n",
       "      <td>very</td>\n",
       "      <td>11</td>\n",
       "    </tr>\n",
       "    <tr>\n",
       "      <th>6056</th>\n",
       "      <td>14</td>\n",
       "      <td>lady</td>\n",
       "      <td>10</td>\n",
       "    </tr>\n",
       "    <tr>\n",
       "      <th>32767</th>\n",
       "      <td>57</td>\n",
       "      <td>elizabeth</td>\n",
       "      <td>10</td>\n",
       "    </tr>\n",
       "    <tr>\n",
       "      <th>5526</th>\n",
       "      <td>13</td>\n",
       "      <td>am</td>\n",
       "      <td>10</td>\n",
       "    </tr>\n",
       "    <tr>\n",
       "      <th>20110</th>\n",
       "      <td>38</td>\n",
       "      <td>elizabeth</td>\n",
       "      <td>9</td>\n",
       "    </tr>\n",
       "    <tr>\n",
       "      <th>1443</th>\n",
       "      <td>5</td>\n",
       "      <td>said</td>\n",
       "      <td>9</td>\n",
       "    </tr>\n",
       "    <tr>\n",
       "      <th>11271</th>\n",
       "      <td>22</td>\n",
       "      <td>elizabeth</td>\n",
       "      <td>9</td>\n",
       "    </tr>\n",
       "    <tr>\n",
       "      <th>22270</th>\n",
       "      <td>42</td>\n",
       "      <td>elizabeth</td>\n",
       "      <td>9</td>\n",
       "    </tr>\n",
       "    <tr>\n",
       "      <th>17525</th>\n",
       "      <td>34</td>\n",
       "      <td>darcy</td>\n",
       "      <td>9</td>\n",
       "    </tr>\n",
       "    <tr>\n",
       "      <th>284</th>\n",
       "      <td>2</td>\n",
       "      <td>said</td>\n",
       "      <td>9</td>\n",
       "    </tr>\n",
       "    <tr>\n",
       "      <th>15657</th>\n",
       "      <td>30</td>\n",
       "      <td>collins</td>\n",
       "      <td>9</td>\n",
       "    </tr>\n",
       "    <tr>\n",
       "      <th>19692</th>\n",
       "      <td>37</td>\n",
       "      <td>catherine</td>\n",
       "      <td>9</td>\n",
       "    </tr>\n",
       "    <tr>\n",
       "      <th>35139</th>\n",
       "      <td>61</td>\n",
       "      <td>darcy</td>\n",
       "      <td>8</td>\n",
       "    </tr>\n",
       "    <tr>\n",
       "      <th>7921</th>\n",
       "      <td>17</td>\n",
       "      <td>elizabeth</td>\n",
       "      <td>8</td>\n",
       "    </tr>\n",
       "    <tr>\n",
       "      <th>14295</th>\n",
       "      <td>27</td>\n",
       "      <td>shall</td>\n",
       "      <td>8</td>\n",
       "    </tr>\n",
       "    <tr>\n",
       "      <th>26</th>\n",
       "      <td>1</td>\n",
       "      <td>dear</td>\n",
       "      <td>8</td>\n",
       "    </tr>\n",
       "    <tr>\n",
       "      <th>34827</th>\n",
       "      <td>60</td>\n",
       "      <td>lady</td>\n",
       "      <td>7</td>\n",
       "    </tr>\n",
       "    <tr>\n",
       "      <th>5308</th>\n",
       "      <td>12</td>\n",
       "      <td>much</td>\n",
       "      <td>6</td>\n",
       "    </tr>\n",
       "  </tbody>\n",
       "</table>\n",
       "<p>61 rows × 3 columns</p>\n",
       "</div>"
      ],
      "text/plain": [
       "       chapter       word  count\n",
       "22788       43  elizabeth     36\n",
       "8445        18      darcy     30\n",
       "7094        16       very     28\n",
       "25975       47       such     23\n",
       "24548       45       miss     22\n",
       "14954       29       lady     21\n",
       "30161       53       said     20\n",
       "3006         8    bingley     20\n",
       "32111       56  elizabeth     19\n",
       "4089        10      darcy     18\n",
       "31452       55       jane     18\n",
       "9656        19         am     18\n",
       "13357       26  elizabeth     17\n",
       "29455       52       very     16\n",
       "23892       44      darcy     16\n",
       "25159       46       such     16\n",
       "28812       51  elizabeth     15\n",
       "28154       50     bennet     15\n",
       "34024       59      darcy     15\n",
       "16961       33      darcy     15\n",
       "512          3    bingley     15\n",
       "1678         6       miss     14\n",
       "33293       58  elizabeth     14\n",
       "2647         7  elizabeth     14\n",
       "10160       20    collins     14\n",
       "3551         9       very     14\n",
       "4770        11       miss     14\n",
       "27565       49  elizabeth     13\n",
       "16084       31      darcy     13\n",
       "12991       25       very     13\n",
       "...        ...        ...    ...\n",
       "21486       41       very     12\n",
       "16541       32       very     12\n",
       "10686       21       miss     12\n",
       "11836       23     bennet     11\n",
       "30899       54  elizabeth     11\n",
       "26920       48     bennet     11\n",
       "19173       36    herself     11\n",
       "21087       40       such     11\n",
       "18385       35    wickham     11\n",
       "20524       39       such     11\n",
       "1001         4    bingley     11\n",
       "12520       24        may     11\n",
       "6510        15       very     11\n",
       "6056        14       lady     10\n",
       "32767       57  elizabeth     10\n",
       "5526        13         am     10\n",
       "20110       38  elizabeth      9\n",
       "1443         5       said      9\n",
       "11271       22  elizabeth      9\n",
       "22270       42  elizabeth      9\n",
       "17525       34      darcy      9\n",
       "284          2       said      9\n",
       "15657       30    collins      9\n",
       "19692       37  catherine      9\n",
       "35139       61      darcy      8\n",
       "7921        17  elizabeth      8\n",
       "14295       27      shall      8\n",
       "26           1       dear      8\n",
       "34827       60       lady      7\n",
       "5308        12       much      6\n",
       "\n",
       "[61 rows x 3 columns]"
      ]
     },
     "execution_count": 85,
     "metadata": {},
     "output_type": "execute_result"
    }
   ],
   "source": [
    "df = pd.DataFrame(word_tuples, columns=[\"chapter\", \"word\", \"count\"])\n",
    "df.sort_values(\"count\", ascending=False).drop_duplicates('chapter')"
   ]
  },
  {
   "cell_type": "markdown",
   "metadata": {},
   "source": [
    "Find the 10 most common words overall and plot their frequency over the course of the book"
   ]
  },
  {
   "cell_type": "code",
   "execution_count": 89,
   "metadata": {},
   "outputs": [],
   "source": [
    "top_ten = df.groupby([\"word\"]).sum().sort_values(\"count\", ascending=False)[:10].index"
   ]
  },
  {
   "cell_type": "code",
   "execution_count": 92,
   "metadata": {},
   "outputs": [
    {
     "data": {
      "application/vnd.vegalite.v2+json": {
       "$schema": "https://vega.github.io/schema/vega-lite/v2.6.0.json",
       "config": {
        "view": {
         "height": 300,
         "width": 400
        }
       },
       "data": {
        "name": "data-d76cce6a4b2e6729d63f5aaebdd056e8"
       },
       "datasets": {
        "data-d76cce6a4b2e6729d63f5aaebdd056e8": [
         {
          "chapter": 1,
          "count": 7,
          "word": "must"
         },
         {
          "chapter": 1,
          "count": 5,
          "word": "such"
         },
         {
          "chapter": 1,
          "count": 1,
          "word": "said"
         },
         {
          "chapter": 1,
          "count": 2,
          "word": "mrs"
         },
         {
          "chapter": 1,
          "count": 3,
          "word": "much"
         },
         {
          "chapter": 1,
          "count": 2,
          "word": "am"
         },
         {
          "chapter": 1,
          "count": 2,
          "word": "very"
         },
         {
          "chapter": 2,
          "count": 9,
          "word": "said"
         },
         {
          "chapter": 2,
          "count": 1,
          "word": "elizabeth"
         },
         {
          "chapter": 2,
          "count": 7,
          "word": "mrs"
         },
         {
          "chapter": 2,
          "count": 3,
          "word": "such"
         },
         {
          "chapter": 2,
          "count": 7,
          "word": "am"
         },
         {
          "chapter": 2,
          "count": 2,
          "word": "very"
         },
         {
          "chapter": 2,
          "count": 1,
          "word": "must"
         },
         {
          "chapter": 2,
          "count": 2,
          "word": "much"
         },
         {
          "chapter": 3,
          "count": 8,
          "word": "mrs"
         },
         {
          "chapter": 3,
          "count": 5,
          "word": "very"
         },
         {
          "chapter": 3,
          "count": 5,
          "word": "said"
         },
         {
          "chapter": 3,
          "count": 8,
          "word": "much"
         },
         {
          "chapter": 3,
          "count": 4,
          "word": "such"
         },
         {
          "chapter": 3,
          "count": 6,
          "word": "darcy"
         },
         {
          "chapter": 3,
          "count": 2,
          "word": "must"
         },
         {
          "chapter": 3,
          "count": 5,
          "word": "miss"
         },
         {
          "chapter": 3,
          "count": 4,
          "word": "elizabeth"
         },
         {
          "chapter": 3,
          "count": 3,
          "word": "am"
         },
         {
          "chapter": 4,
          "count": 3,
          "word": "elizabeth"
         },
         {
          "chapter": 4,
          "count": 8,
          "word": "very"
         },
         {
          "chapter": 4,
          "count": 5,
          "word": "much"
         },
         {
          "chapter": 4,
          "count": 2,
          "word": "said"
         },
         {
          "chapter": 4,
          "count": 4,
          "word": "such"
         },
         {
          "chapter": 4,
          "count": 5,
          "word": "miss"
         },
         {
          "chapter": 4,
          "count": 1,
          "word": "am"
         },
         {
          "chapter": 4,
          "count": 2,
          "word": "mrs"
         },
         {
          "chapter": 4,
          "count": 6,
          "word": "darcy"
         },
         {
          "chapter": 5,
          "count": 8,
          "word": "very"
         },
         {
          "chapter": 5,
          "count": 7,
          "word": "mrs"
         },
         {
          "chapter": 5,
          "count": 7,
          "word": "miss"
         },
         {
          "chapter": 5,
          "count": 9,
          "word": "said"
         },
         {
          "chapter": 5,
          "count": 2,
          "word": "darcy"
         },
         {
          "chapter": 5,
          "count": 1,
          "word": "such"
         },
         {
          "chapter": 5,
          "count": 2,
          "word": "much"
         },
         {
          "chapter": 5,
          "count": 1,
          "word": "elizabeth"
         },
         {
          "chapter": 5,
          "count": 1,
          "word": "am"
         },
         {
          "chapter": 6,
          "count": 14,
          "word": "miss"
         },
         {
          "chapter": 6,
          "count": 1,
          "word": "mrs"
         },
         {
          "chapter": 6,
          "count": 11,
          "word": "elizabeth"
         },
         {
          "chapter": 6,
          "count": 8,
          "word": "such"
         },
         {
          "chapter": 6,
          "count": 11,
          "word": "very"
         },
         {
          "chapter": 6,
          "count": 9,
          "word": "much"
         },
         {
          "chapter": 6,
          "count": 7,
          "word": "must"
         },
         {
          "chapter": 6,
          "count": 6,
          "word": "said"
         },
         {
          "chapter": 6,
          "count": 13,
          "word": "darcy"
         },
         {
          "chapter": 6,
          "count": 7,
          "word": "am"
         },
         {
          "chapter": 7,
          "count": 7,
          "word": "mrs"
         },
         {
          "chapter": 7,
          "count": 7,
          "word": "must"
         },
         {
          "chapter": 7,
          "count": 5,
          "word": "am"
         },
         {
          "chapter": 7,
          "count": 14,
          "word": "said"
         },
         {
          "chapter": 7,
          "count": 13,
          "word": "very"
         },
         {
          "chapter": 7,
          "count": 5,
          "word": "such"
         },
         {
          "chapter": 7,
          "count": 8,
          "word": "miss"
         },
         {
          "chapter": 7,
          "count": 14,
          "word": "elizabeth"
         },
         {
          "chapter": 7,
          "count": 6,
          "word": "much"
         },
         {
          "chapter": 7,
          "count": 1,
          "word": "darcy"
         },
         {
          "chapter": 8,
          "count": 14,
          "word": "elizabeth"
         },
         {
          "chapter": 8,
          "count": 8,
          "word": "much"
         },
         {
          "chapter": 8,
          "count": 14,
          "word": "very"
         },
         {
          "chapter": 8,
          "count": 17,
          "word": "miss"
         },
         {
          "chapter": 8,
          "count": 8,
          "word": "darcy"
         },
         {
          "chapter": 8,
          "count": 3,
          "word": "mrs"
         },
         {
          "chapter": 8,
          "count": 7,
          "word": "must"
         },
         {
          "chapter": 8,
          "count": 15,
          "word": "am"
         },
         {
          "chapter": 8,
          "count": 13,
          "word": "said"
         },
         {
          "chapter": 8,
          "count": 10,
          "word": "such"
         },
         {
          "chapter": 9,
          "count": 8,
          "word": "elizabeth"
         },
         {
          "chapter": 9,
          "count": 14,
          "word": "very"
         },
         {
          "chapter": 9,
          "count": 9,
          "word": "mrs"
         },
         {
          "chapter": 9,
          "count": 5,
          "word": "miss"
         },
         {
          "chapter": 9,
          "count": 6,
          "word": "must"
         },
         {
          "chapter": 9,
          "count": 7,
          "word": "am"
         },
         {
          "chapter": 9,
          "count": 8,
          "word": "said"
         },
         {
          "chapter": 9,
          "count": 4,
          "word": "such"
         },
         {
          "chapter": 9,
          "count": 8,
          "word": "darcy"
         },
         {
          "chapter": 9,
          "count": 7,
          "word": "much"
         },
         {
          "chapter": 10,
          "count": 9,
          "word": "much"
         },
         {
          "chapter": 10,
          "count": 6,
          "word": "mrs"
         },
         {
          "chapter": 10,
          "count": 15,
          "word": "miss"
         },
         {
          "chapter": 10,
          "count": 15,
          "word": "elizabeth"
         },
         {
          "chapter": 10,
          "count": 18,
          "word": "darcy"
         },
         {
          "chapter": 10,
          "count": 9,
          "word": "such"
         },
         {
          "chapter": 10,
          "count": 6,
          "word": "must"
         },
         {
          "chapter": 10,
          "count": 8,
          "word": "am"
         },
         {
          "chapter": 10,
          "count": 5,
          "word": "very"
         },
         {
          "chapter": 10,
          "count": 12,
          "word": "said"
         },
         {
          "chapter": 11,
          "count": 12,
          "word": "elizabeth"
         },
         {
          "chapter": 11,
          "count": 14,
          "word": "miss"
         },
         {
          "chapter": 11,
          "count": 12,
          "word": "darcy"
         },
         {
          "chapter": 11,
          "count": 9,
          "word": "said"
         },
         {
          "chapter": 11,
          "count": 2,
          "word": "very"
         },
         {
          "chapter": 11,
          "count": 1,
          "word": "mrs"
         },
         {
          "chapter": 11,
          "count": 9,
          "word": "much"
         },
         {
          "chapter": 11,
          "count": 3,
          "word": "am"
         },
         {
          "chapter": 11,
          "count": 6,
          "word": "such"
         },
         {
          "chapter": 11,
          "count": 1,
          "word": "must"
         },
         {
          "chapter": 12,
          "count": 5,
          "word": "elizabeth"
         },
         {
          "chapter": 12,
          "count": 3,
          "word": "mrs"
         },
         {
          "chapter": 12,
          "count": 5,
          "word": "very"
         },
         {
          "chapter": 12,
          "count": 6,
          "word": "much"
         },
         {
          "chapter": 12,
          "count": 2,
          "word": "said"
         },
         {
          "chapter": 12,
          "count": 4,
          "word": "miss"
         },
         {
          "chapter": 12,
          "count": 1,
          "word": "darcy"
         },
         {
          "chapter": 12,
          "count": 1,
          "word": "such"
         },
         {
          "chapter": 12,
          "count": 1,
          "word": "must"
         },
         {
          "chapter": 13,
          "count": 9,
          "word": "said"
         },
         {
          "chapter": 13,
          "count": 10,
          "word": "am"
         },
         {
          "chapter": 13,
          "count": 3,
          "word": "such"
         },
         {
          "chapter": 13,
          "count": 7,
          "word": "mrs"
         },
         {
          "chapter": 13,
          "count": 3,
          "word": "must"
         },
         {
          "chapter": 13,
          "count": 2,
          "word": "elizabeth"
         },
         {
          "chapter": 13,
          "count": 7,
          "word": "very"
         },
         {
          "chapter": 13,
          "count": 5,
          "word": "much"
         },
         {
          "chapter": 14,
          "count": 8,
          "word": "very"
         },
         {
          "chapter": 14,
          "count": 2,
          "word": "such"
         },
         {
          "chapter": 14,
          "count": 3,
          "word": "am"
         },
         {
          "chapter": 14,
          "count": 5,
          "word": "said"
         },
         {
          "chapter": 14,
          "count": 3,
          "word": "mrs"
         },
         {
          "chapter": 14,
          "count": 1,
          "word": "miss"
         },
         {
          "chapter": 14,
          "count": 1,
          "word": "elizabeth"
         },
         {
          "chapter": 14,
          "count": 1,
          "word": "much"
         },
         {
          "chapter": 15,
          "count": 11,
          "word": "very"
         },
         {
          "chapter": 15,
          "count": 4,
          "word": "miss"
         },
         {
          "chapter": 15,
          "count": 9,
          "word": "mrs"
         },
         {
          "chapter": 15,
          "count": 1,
          "word": "must"
         },
         {
          "chapter": 15,
          "count": 5,
          "word": "elizabeth"
         },
         {
          "chapter": 15,
          "count": 4,
          "word": "such"
         },
         {
          "chapter": 15,
          "count": 3,
          "word": "much"
         },
         {
          "chapter": 15,
          "count": 3,
          "word": "darcy"
         },
         {
          "chapter": 15,
          "count": 2,
          "word": "said"
         },
         {
          "chapter": 16,
          "count": 9,
          "word": "mrs"
         },
         {
          "chapter": 16,
          "count": 10,
          "word": "much"
         },
         {
          "chapter": 16,
          "count": 28,
          "word": "very"
         },
         {
          "chapter": 16,
          "count": 18,
          "word": "elizabeth"
         },
         {
          "chapter": 16,
          "count": 11,
          "word": "such"
         },
         {
          "chapter": 16,
          "count": 11,
          "word": "said"
         },
         {
          "chapter": 16,
          "count": 18,
          "word": "darcy"
         },
         {
          "chapter": 16,
          "count": 5,
          "word": "miss"
         },
         {
          "chapter": 16,
          "count": 5,
          "word": "am"
         },
         {
          "chapter": 16,
          "count": 6,
          "word": "must"
         },
         {
          "chapter": 17,
          "count": 8,
          "word": "elizabeth"
         },
         {
          "chapter": 17,
          "count": 3,
          "word": "darcy"
         },
         {
          "chapter": 17,
          "count": 6,
          "word": "such"
         },
         {
          "chapter": 17,
          "count": 3,
          "word": "said"
         },
         {
          "chapter": 17,
          "count": 6,
          "word": "very"
         },
         {
          "chapter": 17,
          "count": 5,
          "word": "much"
         },
         {
          "chapter": 17,
          "count": 3,
          "word": "mrs"
         },
         {
          "chapter": 17,
          "count": 2,
          "word": "am"
         },
         {
          "chapter": 17,
          "count": 2,
          "word": "miss"
         },
         {
          "chapter": 17,
          "count": 1,
          "word": "must"
         },
         {
          "chapter": 18,
          "count": 25,
          "word": "elizabeth"
         },
         {
          "chapter": 18,
          "count": 30,
          "word": "darcy"
         },
         {
          "chapter": 18,
          "count": 15,
          "word": "much"
         },
         {
          "chapter": 18,
          "count": 19,
          "word": "very"
         },
         {
          "chapter": 18,
          "count": 22,
          "word": "such"
         },
         {
          "chapter": 18,
          "count": 21,
          "word": "said"
         },
         {
          "chapter": 18,
          "count": 13,
          "word": "must"
         },
         {
          "chapter": 18,
          "count": 13,
          "word": "am"
         },
         {
          "chapter": 18,
          "count": 10,
          "word": "miss"
         },
         {
          "chapter": 18,
          "count": 9,
          "word": "mrs"
         },
         {
          "chapter": 19,
          "count": 10,
          "word": "very"
         },
         {
          "chapter": 19,
          "count": 4,
          "word": "mrs"
         },
         {
          "chapter": 19,
          "count": 10,
          "word": "elizabeth"
         },
         {
          "chapter": 19,
          "count": 18,
          "word": "am"
         },
         {
          "chapter": 19,
          "count": 8,
          "word": "must"
         },
         {
          "chapter": 19,
          "count": 6,
          "word": "such"
         },
         {
          "chapter": 19,
          "count": 2,
          "word": "miss"
         },
         {
          "chapter": 19,
          "count": 6,
          "word": "said"
         },
         {
          "chapter": 19,
          "count": 2,
          "word": "much"
         },
         {
          "chapter": 20,
          "count": 10,
          "word": "mrs"
         },
         {
          "chapter": 20,
          "count": 9,
          "word": "elizabeth"
         },
         {
          "chapter": 20,
          "count": 7,
          "word": "very"
         },
         {
          "chapter": 20,
          "count": 5,
          "word": "such"
         },
         {
          "chapter": 20,
          "count": 2,
          "word": "much"
         },
         {
          "chapter": 20,
          "count": 3,
          "word": "said"
         },
         {
          "chapter": 20,
          "count": 6,
          "word": "am"
         },
         {
          "chapter": 20,
          "count": 2,
          "word": "must"
         },
         {
          "chapter": 20,
          "count": 4,
          "word": "miss"
         },
         {
          "chapter": 21,
          "count": 8,
          "word": "elizabeth"
         },
         {
          "chapter": 21,
          "count": 12,
          "word": "miss"
         },
         {
          "chapter": 21,
          "count": 2,
          "word": "mrs"
         },
         {
          "chapter": 21,
          "count": 6,
          "word": "said"
         },
         {
          "chapter": 21,
          "count": 7,
          "word": "darcy"
         },
         {
          "chapter": 21,
          "count": 2,
          "word": "very"
         },
         {
          "chapter": 21,
          "count": 5,
          "word": "must"
         },
         {
          "chapter": 21,
          "count": 4,
          "word": "much"
         },
         {
          "chapter": 21,
          "count": 2,
          "word": "am"
         },
         {
          "chapter": 21,
          "count": 1,
          "word": "such"
         },
         {
          "chapter": 22,
          "count": 6,
          "word": "miss"
         },
         {
          "chapter": 22,
          "count": 9,
          "word": "elizabeth"
         },
         {
          "chapter": 22,
          "count": 3,
          "word": "said"
         },
         {
          "chapter": 22,
          "count": 4,
          "word": "am"
         },
         {
          "chapter": 22,
          "count": 7,
          "word": "very"
         },
         {
          "chapter": 22,
          "count": 6,
          "word": "such"
         },
         {
          "chapter": 22,
          "count": 5,
          "word": "much"
         },
         {
          "chapter": 22,
          "count": 7,
          "word": "must"
         },
         {
          "chapter": 22,
          "count": 2,
          "word": "mrs"
         },
         {
          "chapter": 23,
          "count": 10,
          "word": "elizabeth"
         },
         {
          "chapter": 23,
          "count": 6,
          "word": "much"
         },
         {
          "chapter": 23,
          "count": 9,
          "word": "mrs"
         },
         {
          "chapter": 23,
          "count": 1,
          "word": "must"
         },
         {
          "chapter": 23,
          "count": 7,
          "word": "such"
         },
         {
          "chapter": 23,
          "count": 7,
          "word": "very"
         },
         {
          "chapter": 23,
          "count": 4,
          "word": "said"
         },
         {
          "chapter": 23,
          "count": 4,
          "word": "miss"
         },
         {
          "chapter": 23,
          "count": 1,
          "word": "darcy"
         },
         {
          "chapter": 24,
          "count": 6,
          "word": "miss"
         },
         {
          "chapter": 24,
          "count": 5,
          "word": "very"
         },
         {
          "chapter": 24,
          "count": 9,
          "word": "elizabeth"
         },
         {
          "chapter": 24,
          "count": 4,
          "word": "darcy"
         },
         {
          "chapter": 24,
          "count": 4,
          "word": "much"
         },
         {
          "chapter": 24,
          "count": 9,
          "word": "must"
         },
         {
          "chapter": 24,
          "count": 3,
          "word": "mrs"
         },
         {
          "chapter": 24,
          "count": 5,
          "word": "said"
         },
         {
          "chapter": 24,
          "count": 3,
          "word": "am"
         },
         {
          "chapter": 24,
          "count": 4,
          "word": "such"
         },
         {
          "chapter": 25,
          "count": 4,
          "word": "much"
         },
         {
          "chapter": 25,
          "count": 12,
          "word": "mrs"
         },
         {
          "chapter": 25,
          "count": 13,
          "word": "very"
         },
         {
          "chapter": 25,
          "count": 4,
          "word": "am"
         },
         {
          "chapter": 25,
          "count": 5,
          "word": "elizabeth"
         },
         {
          "chapter": 25,
          "count": 2,
          "word": "said"
         },
         {
          "chapter": 25,
          "count": 4,
          "word": "such"
         },
         {
          "chapter": 25,
          "count": 4,
          "word": "darcy"
         },
         {
          "chapter": 25,
          "count": 1,
          "word": "miss"
         },
         {
          "chapter": 26,
          "count": 5,
          "word": "mrs"
         },
         {
          "chapter": 26,
          "count": 17,
          "word": "elizabeth"
         },
         {
          "chapter": 26,
          "count": 16,
          "word": "am"
         },
         {
          "chapter": 26,
          "count": 14,
          "word": "very"
         },
         {
          "chapter": 26,
          "count": 7,
          "word": "must"
         },
         {
          "chapter": 26,
          "count": 4,
          "word": "darcy"
         },
         {
          "chapter": 26,
          "count": 5,
          "word": "said"
         },
         {
          "chapter": 26,
          "count": 4,
          "word": "such"
         },
         {
          "chapter": 26,
          "count": 8,
          "word": "miss"
         },
         {
          "chapter": 26,
          "count": 4,
          "word": "much"
         },
         {
          "chapter": 27,
          "count": 7,
          "word": "elizabeth"
         },
         {
          "chapter": 27,
          "count": 4,
          "word": "very"
         },
         {
          "chapter": 27,
          "count": 2,
          "word": "such"
         },
         {
          "chapter": 27,
          "count": 4,
          "word": "miss"
         },
         {
          "chapter": 27,
          "count": 2,
          "word": "must"
         },
         {
          "chapter": 27,
          "count": 2,
          "word": "much"
         },
         {
          "chapter": 27,
          "count": 3,
          "word": "mrs"
         },
         {
          "chapter": 27,
          "count": 2,
          "word": "am"
         },
         {
          "chapter": 27,
          "count": 1,
          "word": "said"
         },
         {
          "chapter": 28,
          "count": 12,
          "word": "elizabeth"
         },
         {
          "chapter": 28,
          "count": 2,
          "word": "mrs"
         },
         {
          "chapter": 28,
          "count": 2,
          "word": "such"
         },
         {
          "chapter": 28,
          "count": 4,
          "word": "said"
         },
         {
          "chapter": 28,
          "count": 2,
          "word": "much"
         },
         {
          "chapter": 28,
          "count": 1,
          "word": "must"
         },
         {
          "chapter": 28,
          "count": 4,
          "word": "miss"
         },
         {
          "chapter": 28,
          "count": 5,
          "word": "very"
         },
         {
          "chapter": 29,
          "count": 10,
          "word": "such"
         },
         {
          "chapter": 29,
          "count": 9,
          "word": "said"
         },
         {
          "chapter": 29,
          "count": 5,
          "word": "am"
         },
         {
          "chapter": 29,
          "count": 12,
          "word": "elizabeth"
         },
         {
          "chapter": 29,
          "count": 12,
          "word": "very"
         },
         {
          "chapter": 29,
          "count": 9,
          "word": "much"
         },
         {
          "chapter": 29,
          "count": 12,
          "word": "mrs"
         },
         {
          "chapter": 29,
          "count": 1,
          "word": "darcy"
         },
         {
          "chapter": 29,
          "count": 9,
          "word": "miss"
         },
         {
          "chapter": 29,
          "count": 3,
          "word": "must"
         },
         {
          "chapter": 30,
          "count": 3,
          "word": "such"
         },
         {
          "chapter": 30,
          "count": 9,
          "word": "elizabeth"
         },
         {
          "chapter": 30,
          "count": 1,
          "word": "much"
         },
         {
          "chapter": 30,
          "count": 4,
          "word": "miss"
         },
         {
          "chapter": 30,
          "count": 2,
          "word": "very"
         },
         {
          "chapter": 30,
          "count": 3,
          "word": "mrs"
         },
         {
          "chapter": 30,
          "count": 1,
          "word": "must"
         },
         {
          "chapter": 30,
          "count": 4,
          "word": "darcy"
         },
         {
          "chapter": 31,
          "count": 11,
          "word": "very"
         },
         {
          "chapter": 31,
          "count": 7,
          "word": "much"
         },
         {
          "chapter": 31,
          "count": 3,
          "word": "must"
         },
         {
          "chapter": 31,
          "count": 4,
          "word": "such"
         },
         {
          "chapter": 31,
          "count": 13,
          "word": "darcy"
         },
         {
          "chapter": 31,
          "count": 3,
          "word": "mrs"
         },
         {
          "chapter": 31,
          "count": 9,
          "word": "elizabeth"
         },
         {
          "chapter": 31,
          "count": 5,
          "word": "miss"
         },
         {
          "chapter": 31,
          "count": 12,
          "word": "said"
         },
         {
          "chapter": 31,
          "count": 5,
          "word": "am"
         },
         {
          "chapter": 32,
          "count": 10,
          "word": "elizabeth"
         },
         {
          "chapter": 32,
          "count": 5,
          "word": "mrs"
         },
         {
          "chapter": 32,
          "count": 12,
          "word": "very"
         },
         {
          "chapter": 32,
          "count": 8,
          "word": "darcy"
         },
         {
          "chapter": 32,
          "count": 6,
          "word": "must"
         },
         {
          "chapter": 32,
          "count": 5,
          "word": "much"
         },
         {
          "chapter": 32,
          "count": 5,
          "word": "said"
         },
         {
          "chapter": 32,
          "count": 3,
          "word": "am"
         },
         {
          "chapter": 32,
          "count": 2,
          "word": "such"
         },
         {
          "chapter": 32,
          "count": 1,
          "word": "miss"
         },
         {
          "chapter": 33,
          "count": 4,
          "word": "elizabeth"
         },
         {
          "chapter": 33,
          "count": 15,
          "word": "darcy"
         },
         {
          "chapter": 33,
          "count": 10,
          "word": "very"
         },
         {
          "chapter": 33,
          "count": 10,
          "word": "said"
         },
         {
          "chapter": 33,
          "count": 8,
          "word": "much"
         },
         {
          "chapter": 33,
          "count": 3,
          "word": "mrs"
         },
         {
          "chapter": 33,
          "count": 3,
          "word": "must"
         },
         {
          "chapter": 33,
          "count": 3,
          "word": "am"
         },
         {
          "chapter": 33,
          "count": 4,
          "word": "miss"
         },
         {
          "chapter": 33,
          "count": 1,
          "word": "such"
         },
         {
          "chapter": 34,
          "count": 7,
          "word": "elizabeth"
         },
         {
          "chapter": 34,
          "count": 3,
          "word": "much"
         },
         {
          "chapter": 34,
          "count": 9,
          "word": "darcy"
         },
         {
          "chapter": 34,
          "count": 4,
          "word": "very"
         },
         {
          "chapter": 34,
          "count": 8,
          "word": "said"
         },
         {
          "chapter": 34,
          "count": 3,
          "word": "must"
         },
         {
          "chapter": 34,
          "count": 4,
          "word": "such"
         },
         {
          "chapter": 34,
          "count": 4,
          "word": "am"
         },
         {
          "chapter": 35,
          "count": 2,
          "word": "elizabeth"
         },
         {
          "chapter": 35,
          "count": 3,
          "word": "darcy"
         },
         {
          "chapter": 35,
          "count": 2,
          "word": "said"
         },
         {
          "chapter": 35,
          "count": 7,
          "word": "very"
         },
         {
          "chapter": 35,
          "count": 9,
          "word": "must"
         },
         {
          "chapter": 35,
          "count": 5,
          "word": "am"
         },
         {
          "chapter": 35,
          "count": 2,
          "word": "miss"
         },
         {
          "chapter": 35,
          "count": 3,
          "word": "such"
         },
         {
          "chapter": 35,
          "count": 2,
          "word": "much"
         },
         {
          "chapter": 35,
          "count": 2,
          "word": "mrs"
         },
         {
          "chapter": 36,
          "count": 2,
          "word": "elizabeth"
         },
         {
          "chapter": 36,
          "count": 10,
          "word": "darcy"
         },
         {
          "chapter": 36,
          "count": 8,
          "word": "such"
         },
         {
          "chapter": 36,
          "count": 6,
          "word": "must"
         },
         {
          "chapter": 36,
          "count": 1,
          "word": "said"
         },
         {
          "chapter": 36,
          "count": 4,
          "word": "very"
         },
         {
          "chapter": 36,
          "count": 2,
          "word": "miss"
         },
         {
          "chapter": 36,
          "count": 1,
          "word": "much"
         },
         {
          "chapter": 37,
          "count": 6,
          "word": "very"
         },
         {
          "chapter": 37,
          "count": 4,
          "word": "elizabeth"
         },
         {
          "chapter": 37,
          "count": 2,
          "word": "said"
         },
         {
          "chapter": 37,
          "count": 5,
          "word": "much"
         },
         {
          "chapter": 37,
          "count": 7,
          "word": "am"
         },
         {
          "chapter": 37,
          "count": 3,
          "word": "darcy"
         },
         {
          "chapter": 37,
          "count": 3,
          "word": "miss"
         },
         {
          "chapter": 37,
          "count": 7,
          "word": "must"
         },
         {
          "chapter": 37,
          "count": 5,
          "word": "mrs"
         },
         {
          "chapter": 38,
          "count": 9,
          "word": "elizabeth"
         },
         {
          "chapter": 38,
          "count": 2,
          "word": "miss"
         },
         {
          "chapter": 38,
          "count": 2,
          "word": "said"
         },
         {
          "chapter": 38,
          "count": 3,
          "word": "mrs"
         },
         {
          "chapter": 38,
          "count": 1,
          "word": "am"
         },
         {
          "chapter": 38,
          "count": 3,
          "word": "very"
         },
         {
          "chapter": 38,
          "count": 4,
          "word": "much"
         },
         {
          "chapter": 38,
          "count": 4,
          "word": "must"
         },
         {
          "chapter": 38,
          "count": 2,
          "word": "such"
         },
         {
          "chapter": 39,
          "count": 11,
          "word": "such"
         },
         {
          "chapter": 39,
          "count": 2,
          "word": "must"
         },
         {
          "chapter": 39,
          "count": 4,
          "word": "very"
         },
         {
          "chapter": 39,
          "count": 2,
          "word": "much"
         },
         {
          "chapter": 39,
          "count": 9,
          "word": "elizabeth"
         },
         {
          "chapter": 39,
          "count": 6,
          "word": "said"
         },
         {
          "chapter": 39,
          "count": 5,
          "word": "am"
         },
         {
          "chapter": 39,
          "count": 6,
          "word": "mrs"
         },
         {
          "chapter": 39,
          "count": 1,
          "word": "miss"
         },
         {
          "chapter": 40,
          "count": 7,
          "word": "darcy"
         },
         {
          "chapter": 40,
          "count": 2,
          "word": "miss"
         },
         {
          "chapter": 40,
          "count": 4,
          "word": "elizabeth"
         },
         {
          "chapter": 40,
          "count": 7,
          "word": "must"
         },
         {
          "chapter": 40,
          "count": 5,
          "word": "said"
         },
         {
          "chapter": 40,
          "count": 8,
          "word": "much"
         },
         {
          "chapter": 40,
          "count": 8,
          "word": "am"
         },
         {
          "chapter": 40,
          "count": 8,
          "word": "very"
         },
         {
          "chapter": 40,
          "count": 11,
          "word": "such"
         },
         {
          "chapter": 40,
          "count": 1,
          "word": "mrs"
         },
         {
          "chapter": 41,
          "count": 3,
          "word": "miss"
         },
         {
          "chapter": 41,
          "count": 12,
          "word": "very"
         },
         {
          "chapter": 41,
          "count": 11,
          "word": "such"
         },
         {
          "chapter": 41,
          "count": 7,
          "word": "am"
         },
         {
          "chapter": 41,
          "count": 9,
          "word": "said"
         },
         {
          "chapter": 41,
          "count": 8,
          "word": "mrs"
         },
         {
          "chapter": 41,
          "count": 10,
          "word": "elizabeth"
         },
         {
          "chapter": 41,
          "count": 6,
          "word": "much"
         },
         {
          "chapter": 41,
          "count": 8,
          "word": "must"
         },
         {
          "chapter": 41,
          "count": 2,
          "word": "darcy"
         },
         {
          "chapter": 42,
          "count": 8,
          "word": "very"
         },
         {
          "chapter": 42,
          "count": 7,
          "word": "such"
         },
         {
          "chapter": 42,
          "count": 9,
          "word": "elizabeth"
         },
         {
          "chapter": 42,
          "count": 3,
          "word": "must"
         },
         {
          "chapter": 42,
          "count": 8,
          "word": "mrs"
         },
         {
          "chapter": 42,
          "count": 3,
          "word": "much"
         },
         {
          "chapter": 42,
          "count": 4,
          "word": "said"
         },
         {
          "chapter": 42,
          "count": 1,
          "word": "darcy"
         },
         {
          "chapter": 43,
          "count": 36,
          "word": "elizabeth"
         },
         {
          "chapter": 43,
          "count": 19,
          "word": "very"
         },
         {
          "chapter": 43,
          "count": 14,
          "word": "much"
         },
         {
          "chapter": 43,
          "count": 22,
          "word": "mrs"
         },
         {
          "chapter": 43,
          "count": 5,
          "word": "am"
         },
         {
          "chapter": 43,
          "count": 16,
          "word": "said"
         },
         {
          "chapter": 43,
          "count": 7,
          "word": "miss"
         },
         {
          "chapter": 43,
          "count": 12,
          "word": "darcy"
         },
         {
          "chapter": 43,
          "count": 12,
          "word": "such"
         },
         {
          "chapter": 43,
          "count": 5,
          "word": "must"
         },
         {
          "chapter": 44,
          "count": 12,
          "word": "elizabeth"
         },
         {
          "chapter": 44,
          "count": 16,
          "word": "darcy"
         },
         {
          "chapter": 44,
          "count": 8,
          "word": "very"
         },
         {
          "chapter": 44,
          "count": 8,
          "word": "such"
         },
         {
          "chapter": 44,
          "count": 2,
          "word": "said"
         },
         {
          "chapter": 44,
          "count": 11,
          "word": "much"
         },
         {
          "chapter": 44,
          "count": 7,
          "word": "miss"
         },
         {
          "chapter": 44,
          "count": 4,
          "word": "mrs"
         },
         {
          "chapter": 44,
          "count": 1,
          "word": "must"
         },
         {
          "chapter": 45,
          "count": 16,
          "word": "elizabeth"
         },
         {
          "chapter": 45,
          "count": 22,
          "word": "miss"
         },
         {
          "chapter": 45,
          "count": 4,
          "word": "must"
         },
         {
          "chapter": 45,
          "count": 5,
          "word": "much"
         },
         {
          "chapter": 45,
          "count": 13,
          "word": "darcy"
         },
         {
          "chapter": 45,
          "count": 9,
          "word": "mrs"
         },
         {
          "chapter": 45,
          "count": 4,
          "word": "very"
         },
         {
          "chapter": 45,
          "count": 4,
          "word": "such"
         },
         {
          "chapter": 45,
          "count": 1,
          "word": "said"
         },
         {
          "chapter": 46,
          "count": 11,
          "word": "elizabeth"
         },
         {
          "chapter": 46,
          "count": 12,
          "word": "must"
         },
         {
          "chapter": 46,
          "count": 16,
          "word": "such"
         },
         {
          "chapter": 46,
          "count": 14,
          "word": "am"
         },
         {
          "chapter": 46,
          "count": 5,
          "word": "very"
         },
         {
          "chapter": 46,
          "count": 5,
          "word": "said"
         },
         {
          "chapter": 46,
          "count": 2,
          "word": "much"
         },
         {
          "chapter": 46,
          "count": 6,
          "word": "mrs"
         },
         {
          "chapter": 46,
          "count": 9,
          "word": "darcy"
         },
         {
          "chapter": 46,
          "count": 1,
          "word": "miss"
         },
         {
          "chapter": 47,
          "count": 6,
          "word": "said"
         },
         {
          "chapter": 47,
          "count": 17,
          "word": "am"
         },
         {
          "chapter": 47,
          "count": 11,
          "word": "much"
         },
         {
          "chapter": 47,
          "count": 11,
          "word": "very"
         },
         {
          "chapter": 47,
          "count": 23,
          "word": "such"
         },
         {
          "chapter": 47,
          "count": 17,
          "word": "elizabeth"
         },
         {
          "chapter": 47,
          "count": 6,
          "word": "mrs"
         },
         {
          "chapter": 47,
          "count": 12,
          "word": "must"
         },
         {
          "chapter": 47,
          "count": 3,
          "word": "darcy"
         },
         {
          "chapter": 47,
          "count": 3,
          "word": "miss"
         },
         {
          "chapter": 48,
          "count": 6,
          "word": "such"
         },
         {
          "chapter": 48,
          "count": 9,
          "word": "mrs"
         },
         {
          "chapter": 48,
          "count": 6,
          "word": "said"
         },
         {
          "chapter": 48,
          "count": 8,
          "word": "elizabeth"
         },
         {
          "chapter": 48,
          "count": 7,
          "word": "must"
         },
         {
          "chapter": 48,
          "count": 4,
          "word": "very"
         },
         {
          "chapter": 48,
          "count": 5,
          "word": "am"
         },
         {
          "chapter": 48,
          "count": 4,
          "word": "much"
         },
         {
          "chapter": 48,
          "count": 1,
          "word": "darcy"
         },
         {
          "chapter": 48,
          "count": 1,
          "word": "miss"
         },
         {
          "chapter": 49,
          "count": 13,
          "word": "elizabeth"
         },
         {
          "chapter": 49,
          "count": 12,
          "word": "said"
         },
         {
          "chapter": 49,
          "count": 2,
          "word": "miss"
         },
         {
          "chapter": 49,
          "count": 6,
          "word": "mrs"
         },
         {
          "chapter": 49,
          "count": 5,
          "word": "much"
         },
         {
          "chapter": 49,
          "count": 11,
          "word": "am"
         },
         {
          "chapter": 49,
          "count": 7,
          "word": "such"
         },
         {
          "chapter": 49,
          "count": 10,
          "word": "must"
         },
         {
          "chapter": 49,
          "count": 6,
          "word": "very"
         },
         {
          "chapter": 50,
          "count": 5,
          "word": "very"
         },
         {
          "chapter": 50,
          "count": 10,
          "word": "mrs"
         },
         {
          "chapter": 50,
          "count": 9,
          "word": "such"
         },
         {
          "chapter": 50,
          "count": 1,
          "word": "miss"
         },
         {
          "chapter": 50,
          "count": 2,
          "word": "much"
         },
         {
          "chapter": 50,
          "count": 3,
          "word": "said"
         },
         {
          "chapter": 50,
          "count": 4,
          "word": "must"
         },
         {
          "chapter": 50,
          "count": 3,
          "word": "elizabeth"
         },
         {
          "chapter": 50,
          "count": 2,
          "word": "darcy"
         },
         {
          "chapter": 51,
          "count": 15,
          "word": "elizabeth"
         },
         {
          "chapter": 51,
          "count": 2,
          "word": "miss"
         },
         {
          "chapter": 51,
          "count": 9,
          "word": "must"
         },
         {
          "chapter": 51,
          "count": 5,
          "word": "mrs"
         },
         {
          "chapter": 51,
          "count": 10,
          "word": "such"
         },
         {
          "chapter": 51,
          "count": 5,
          "word": "very"
         },
         {
          "chapter": 51,
          "count": 4,
          "word": "am"
         },
         {
          "chapter": 51,
          "count": 9,
          "word": "said"
         },
         {
          "chapter": 51,
          "count": 2,
          "word": "darcy"
         },
         {
          "chapter": 52,
          "count": 5,
          "word": "elizabeth"
         },
         {
          "chapter": 52,
          "count": 11,
          "word": "must"
         },
         {
          "chapter": 52,
          "count": 8,
          "word": "such"
         },
         {
          "chapter": 52,
          "count": 7,
          "word": "much"
         },
         {
          "chapter": 52,
          "count": 16,
          "word": "very"
         },
         {
          "chapter": 52,
          "count": 9,
          "word": "darcy"
         },
         {
          "chapter": 52,
          "count": 5,
          "word": "am"
         },
         {
          "chapter": 52,
          "count": 3,
          "word": "mrs"
         },
         {
          "chapter": 52,
          "count": 2,
          "word": "miss"
         },
         {
          "chapter": 52,
          "count": 5,
          "word": "said"
         },
         {
          "chapter": 53,
          "count": 14,
          "word": "elizabeth"
         },
         {
          "chapter": 53,
          "count": 20,
          "word": "said"
         },
         {
          "chapter": 53,
          "count": 14,
          "word": "mrs"
         },
         {
          "chapter": 53,
          "count": 9,
          "word": "very"
         },
         {
          "chapter": 53,
          "count": 7,
          "word": "much"
         },
         {
          "chapter": 53,
          "count": 7,
          "word": "am"
         },
         {
          "chapter": 53,
          "count": 8,
          "word": "must"
         },
         {
          "chapter": 53,
          "count": 10,
          "word": "such"
         },
         {
          "chapter": 53,
          "count": 3,
          "word": "miss"
         },
         {
          "chapter": 53,
          "count": 6,
          "word": "darcy"
         },
         {
          "chapter": 54,
          "count": 11,
          "word": "elizabeth"
         },
         {
          "chapter": 54,
          "count": 4,
          "word": "must"
         },
         {
          "chapter": 54,
          "count": 11,
          "word": "said"
         },
         {
          "chapter": 54,
          "count": 3,
          "word": "am"
         },
         {
          "chapter": 54,
          "count": 7,
          "word": "very"
         },
         {
          "chapter": 54,
          "count": 1,
          "word": "much"
         },
         {
          "chapter": 54,
          "count": 7,
          "word": "mrs"
         },
         {
          "chapter": 54,
          "count": 4,
          "word": "darcy"
         },
         {
          "chapter": 54,
          "count": 3,
          "word": "such"
         },
         {
          "chapter": 54,
          "count": 2,
          "word": "miss"
         },
         {
          "chapter": 55,
          "count": 10,
          "word": "mrs"
         },
         {
          "chapter": 55,
          "count": 12,
          "word": "said"
         },
         {
          "chapter": 55,
          "count": 7,
          "word": "such"
         },
         {
          "chapter": 55,
          "count": 7,
          "word": "very"
         },
         {
          "chapter": 55,
          "count": 4,
          "word": "miss"
         },
         {
          "chapter": 55,
          "count": 17,
          "word": "elizabeth"
         },
         {
          "chapter": 55,
          "count": 5,
          "word": "am"
         },
         {
          "chapter": 55,
          "count": 7,
          "word": "must"
         },
         {
          "chapter": 55,
          "count": 1,
          "word": "darcy"
         },
         {
          "chapter": 55,
          "count": 4,
          "word": "much"
         },
         {
          "chapter": 56,
          "count": 15,
          "word": "miss"
         },
         {
          "chapter": 56,
          "count": 14,
          "word": "such"
         },
         {
          "chapter": 56,
          "count": 6,
          "word": "mrs"
         },
         {
          "chapter": 56,
          "count": 19,
          "word": "elizabeth"
         },
         {
          "chapter": 56,
          "count": 9,
          "word": "said"
         },
         {
          "chapter": 56,
          "count": 8,
          "word": "very"
         },
         {
          "chapter": 56,
          "count": 4,
          "word": "much"
         },
         {
          "chapter": 56,
          "count": 9,
          "word": "must"
         },
         {
          "chapter": 56,
          "count": 13,
          "word": "am"
         },
         {
          "chapter": 56,
          "count": 6,
          "word": "darcy"
         },
         {
          "chapter": 57,
          "count": 10,
          "word": "elizabeth"
         },
         {
          "chapter": 57,
          "count": 3,
          "word": "darcy"
         },
         {
          "chapter": 57,
          "count": 4,
          "word": "must"
         },
         {
          "chapter": 57,
          "count": 5,
          "word": "said"
         },
         {
          "chapter": 57,
          "count": 7,
          "word": "much"
         },
         {
          "chapter": 57,
          "count": 4,
          "word": "very"
         },
         {
          "chapter": 57,
          "count": 2,
          "word": "mrs"
         },
         {
          "chapter": 57,
          "count": 2,
          "word": "such"
         },
         {
          "chapter": 57,
          "count": 3,
          "word": "am"
         },
         {
          "chapter": 58,
          "count": 7,
          "word": "such"
         },
         {
          "chapter": 58,
          "count": 14,
          "word": "elizabeth"
         },
         {
          "chapter": 58,
          "count": 8,
          "word": "darcy"
         },
         {
          "chapter": 58,
          "count": 3,
          "word": "mrs"
         },
         {
          "chapter": 58,
          "count": 4,
          "word": "very"
         },
         {
          "chapter": 58,
          "count": 13,
          "word": "said"
         },
         {
          "chapter": 58,
          "count": 8,
          "word": "much"
         },
         {
          "chapter": 58,
          "count": 6,
          "word": "am"
         },
         {
          "chapter": 58,
          "count": 9,
          "word": "must"
         },
         {
          "chapter": 59,
          "count": 12,
          "word": "elizabeth"
         },
         {
          "chapter": 59,
          "count": 15,
          "word": "darcy"
         },
         {
          "chapter": 59,
          "count": 9,
          "word": "very"
         },
         {
          "chapter": 59,
          "count": 3,
          "word": "miss"
         },
         {
          "chapter": 59,
          "count": 9,
          "word": "am"
         },
         {
          "chapter": 59,
          "count": 6,
          "word": "much"
         },
         {
          "chapter": 59,
          "count": 8,
          "word": "such"
         },
         {
          "chapter": 59,
          "count": 7,
          "word": "must"
         },
         {
          "chapter": 59,
          "count": 9,
          "word": "said"
         },
         {
          "chapter": 59,
          "count": 6,
          "word": "mrs"
         },
         {
          "chapter": 60,
          "count": 6,
          "word": "darcy"
         },
         {
          "chapter": 60,
          "count": 2,
          "word": "said"
         },
         {
          "chapter": 60,
          "count": 3,
          "word": "very"
         },
         {
          "chapter": 60,
          "count": 7,
          "word": "much"
         },
         {
          "chapter": 60,
          "count": 5,
          "word": "am"
         },
         {
          "chapter": 60,
          "count": 6,
          "word": "elizabeth"
         },
         {
          "chapter": 60,
          "count": 5,
          "word": "must"
         },
         {
          "chapter": 60,
          "count": 3,
          "word": "mrs"
         },
         {
          "chapter": 60,
          "count": 2,
          "word": "such"
         },
         {
          "chapter": 60,
          "count": 2,
          "word": "miss"
         },
         {
          "chapter": 61,
          "count": 5,
          "word": "mrs"
         },
         {
          "chapter": 61,
          "count": 8,
          "word": "darcy"
         },
         {
          "chapter": 61,
          "count": 8,
          "word": "elizabeth"
         },
         {
          "chapter": 61,
          "count": 6,
          "word": "very"
         },
         {
          "chapter": 61,
          "count": 3,
          "word": "much"
         },
         {
          "chapter": 61,
          "count": 3,
          "word": "must"
         },
         {
          "chapter": 61,
          "count": 4,
          "word": "such"
         },
         {
          "chapter": 61,
          "count": 1,
          "word": "am"
         },
         {
          "chapter": 61,
          "count": 1,
          "word": "miss"
         }
        ]
       },
       "encoding": {
        "color": {
         "field": "word",
         "type": "nominal"
        },
        "x": {
         "field": "chapter",
         "type": "quantitative"
        },
        "y": {
         "field": "count",
         "type": "quantitative"
        }
       },
       "mark": "line"
      },
      "image/png": "[encoded data removed]",
      "text/plain": [
       "<VegaLite 2 object>\n",
       "\n",
       "If you see this message, it means the renderer has not been properly enabled\n",
       "for the frontend that you are using. For more information, see\n",
       "https://altair-viz.github.io/user_guide/troubleshooting.html\n"
      ]
     },
     "execution_count": 92,
     "metadata": {},
     "output_type": "execute_result"
    }
   ],
   "source": [
    "df_top_ten = df[df.word.isin(top_ten)]\n",
    "alt.Chart(df_top_ten).mark_line().encode(x=\"chapter\", y=\"count\", color=\"word\")"
   ]
  },
  {
   "cell_type": "code",
   "execution_count": null,
   "metadata": {},
   "outputs": [],
   "source": []
  }
 ],
 "metadata": {
  "kernelspec": {
   "display_name": "Python 3",
   "language": "python",
   "name": "python3"
  },
  "language_info": {
   "codemirror_mode": {
    "name": "ipython",
    "version": 3
   },
   "file_extension": ".py",
   "mimetype": "text/x-python",
   "name": "python",
   "nbconvert_exporter": "python",
   "pygments_lexer": "ipython3",
   "version": "3.6.7"
  }
 },
 "nbformat": 4,
 "nbformat_minor": 2
}
