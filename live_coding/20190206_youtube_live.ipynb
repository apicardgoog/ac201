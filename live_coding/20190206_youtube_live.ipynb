{
 "cells": [
  {
   "cell_type": "markdown",
   "metadata": {},
   "source": [
    "# February 6 YouTube Live coding\n",
    "\n",
    "## Problem 1\n",
    "\n",
    "Given a string made up of words and numbers, extract all the numbers as integers."
   ]
  },
  {
   "cell_type": "code",
   "execution_count": 50,
   "metadata": {},
   "outputs": [
    {
     "data": {
      "text/plain": [
       "[2018, 23, 136, 22, 39]"
      ]
     },
     "execution_count": 50,
     "metadata": {},
     "output_type": "execute_result"
    }
   ],
   "source": [
    "text = \"\"\"'In 2018 we delivered strong revenue growth, up 23 % year over year to $ 136 billion, and up 22 % for the fourth\n",
    "quarter to $ 39 billion,' said Ruth Porat, Chief Financial Officer of Alphabet and Google. 'With great opportunities\n",
    "ahead, we continue to make focused investments in the talent and infrastructure needed to bring exceptional products\n",
    "and experiences to our users, advertisers and partners around the globe.'\"\"\"\n",
    "new_list = []\n",
    "for word in text.split():\n",
    "    if word.isnumeric():\n",
    "        new_list.append(int(word))\n",
    "\n",
    "new_list = [int(word) for word in text.split()  if word.isnumeric()]\n",
    "new_list\n",
    "\n"
   ]
  },
  {
   "cell_type": "markdown",
   "metadata": {},
   "source": [
    "## Problem 2\n",
    "Using world_countries.csv, make a list of country names and GDP for all countries with a GDP over 10000 using list comprehension."
   ]
  },
  {
   "cell_type": "code",
   "execution_count": 79,
   "metadata": {},
   "outputs": [
    {
     "name": "stdout",
     "output_type": "stream",
     "text": [
      "[['Andorra ', 'Andorra', 'AND', '20', 'WESTERN EUROPE                     ', '71201', '468', '152.1', '0.00', '6.6', '4.05', '19000', '100.0', '497.2', '2.22', '0', '97.78', '3', '8.71', '6.25', '', '', ''], ['Antigua & Barbuda ', 'Antigua & Barbuda', 'ATG', '28', 'LATIN AMER. & CARIB    ', '69108', '443', '156.0', '34.54', '-6.15', '19.46', '11000', '89.0', '549.9', '18.18', '4.55', '77.27', '2', '16.93', '5.37', '0.038', '0.22', '0.743'], ['Argentina ', 'Argentina', 'ARG', '32', 'LATIN AMER. & CARIB    ', '39921833', '2766890', '14.4', '0.18', '0.61', '15.18', '11200', '97.1', '220.4', '12.31', '0.48', '87.21', '3', '16.73', '7.55', '0.095', '0.358', '0.547']]\n",
      "[('Andorra ', 19000), ('Antigua & Barbuda ', 11000), ('Argentina ', 11200)]\n"
     ]
    }
   ],
   "source": [
    "import csv\n",
    "\n",
    "csv_file = open('world_countries.csv')\n",
    "csv_reader = csv.reader(csv_file, delimiter=',')\n",
    "gdp_list = []\n",
    "#print(gdp_list)\n",
    "#for line in csv_reader:\n",
    "#    if line[11].isnumeric() and int(line[11]) > 10000:\n",
    "#        gdp_list.append((line[0], int(line[11])))\n",
    "\n",
    "intermediate_list = [line for line in csv_reader if line[11].isnumeric() and int(line[11]) > 10000]\n",
    "print(intermediate_list[:3])\n",
    "gdp_list = [(line[0], int(line[11])) for line in intermediate_list]        \n",
    "print(gdp_list[:3])"
   ]
  },
  {
   "cell_type": "markdown",
   "metadata": {},
   "source": [
    "## Problem 3\n",
    "\n",
    "Create a dictionary that maps English words to the length of the corresponding pirate word but only for words that translate to a single word (not words like 'lawyer' that translates 'foul blaggart').\n"
   ]
  },
  {
   "cell_type": "code",
   "execution_count": 92,
   "metadata": {},
   "outputs": [
    {
     "data": {
      "text/plain": [
       "{'sir': 5,\n",
       " 'student': 7,\n",
       " 'boy': 5,\n",
       " 'restaurant': 6,\n",
       " 'your': 3,\n",
       " 'excuse': 3,\n",
       " 'students': 8,\n",
       " 'are': 2,\n",
       " 'the': 3,\n",
       " 'restroom': 4,\n",
       " 'my': 2,\n",
       " 'hello': 5,\n",
       " 'is': 2,\n",
       " 'man': 5}"
      ]
     },
     "execution_count": 92,
     "metadata": {},
     "output_type": "execute_result"
    }
   ],
   "source": [
    "english_to_pirate = {\n",
    "    \"sir\": \"matey\",\n",
    "    \"hotel\": \"fleabag inn\",\n",
    "    \"student\": \"swabbie\",\n",
    "    \"boy\": \"matey\",\n",
    "    \"madam\": \"proud beauty\",\n",
    "    \"professor\": \"foul blaggart\",\n",
    "    \"restaurant\": \"galley\",\n",
    "    \"your\": \"yer\",\n",
    "    \"excuse\": \"arr\",\n",
    "    \"students\": \"swabbies\",\n",
    "    \"are\": \"be\",\n",
    "    \"lawyer\": \"foul blaggart\",\n",
    "    \"the\": \"th'\",\n",
    "    \"restroom\": \"head\",\n",
    "    \"my\": \"me\",\n",
    "    \"hello\": \"avast\",\n",
    "    \"is\": \"be\",\n",
    "    \"man\": \"matey\",\n",
    "}\n",
    "english_to_pirate_length = {}\n",
    "for key, value in english_to_pirate.items():\n",
    "    if ' ' not in value:\n",
    "        english_to_pirate_length[key] = len(value)\n",
    "        \n",
    "\n",
    "english_to_pirate_list = [(key, len(value)) for (key, value) in english_to_pirate.items()\n",
    "                         if ' ' not in value]\n",
    "dict(english_to_pirate_list)"
   ]
  },
  {
   "cell_type": "code",
   "execution_count": null,
   "metadata": {},
   "outputs": [],
   "source": []
  }
 ],
 "metadata": {
  "kernelspec": {
   "display_name": "Python 3",
   "language": "python",
   "name": "python3"
  },
  "language_info": {
   "codemirror_mode": {
    "name": "ipython",
    "version": 3
   },
   "file_extension": ".py",
   "mimetype": "text/x-python",
   "name": "python",
   "nbconvert_exporter": "python",
   "pygments_lexer": "ipython3",
   "version": "3.6.7"
  }
 },
 "nbformat": 4,
 "nbformat_minor": 2
}
