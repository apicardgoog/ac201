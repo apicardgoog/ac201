{
 "cells": [
  {
   "cell_type": "markdown",
   "metadata": {},
   "source": [
    "# Jupyter notebooks\n",
    "This file is called a Jupyter notebook. A notebook can be used to write and run programs and to edit accompanying text. This makes it convenient as a way to deliver some of this course content but you can also use it to create a report that contains coding (and its output including graphs).\n",
    "\n",
    "## Text cells\n",
    "In a notebook, each rectangle containing text or code is called a *cell*.\n",
    "\n",
    "Text cells (like this one) can be edited by double-clicking on them. They're written in a format called [Markdown](http://daringfireball.net/projects/markdown/syntax) to add formatting and section headings.  You don't need to learn Markdown, but you might pick up some aspects of the language from looking at the content that we provide.\n",
    "\n",
    "After you edit a text cell, click the \"run cell\" button at the top that looks like ▶ or hold down `shift` + `return` to confirm any changes."
   ]
  },
  {
   "cell_type": "markdown",
   "metadata": {},
   "source": [
    "Practice editing a text cell by making any part of the text this cell that you choose bold. Bold is created in Markdown by surrounding the word or phrase you want bolded with double underscores.\n",
    "\n",
    "You can also double click on any text cell that is given to you to see how the authors of the notebook created various bits of styling like _italics_ or inline images like this one that explains the various parts of Jupyter:\n",
    "\n",
    "![anatomy of JupyterLab](anatomy_of_jupyter_notebook.png)\n"
   ]
  },
  {
   "cell_type": "markdown",
   "metadata": {},
   "source": [
    "## Code cells\n",
    "\n",
    "Alternatively, cells can contain Python 3 code. Clicking \"run cell\" for code cell will execute the content of the cell and print out the output of the code snippet right below the code cell. Try running this cell:"
   ]
  },
  {
   "cell_type": "code",
   "execution_count": null,
   "metadata": {},
   "outputs": [],
   "source": [
    "3+5*4%43"
   ]
  },
  {
   "cell_type": "markdown",
   "metadata": {},
   "source": [
    "This doesn't work just for arithmetic operations but any Python code that you might write:"
   ]
  },
  {
   "cell_type": "code",
   "execution_count": null,
   "metadata": {},
   "outputs": [],
   "source": [
    "import math\n",
    "\n",
    "circle_areas = []\n",
    "for i in range(1, 5):\n",
    "    circle_areas.append(math.pi * i * i)\n",
    "circle_areas"
   ]
  },
  {
   "cell_type": "markdown",
   "metadata": {},
   "source": [
    "Notice that if a cell ends with a value by itself on a line, the resulting value gets printed in the output. This doesn't work if the cell ends with an assignment of a value to a variable:"
   ]
  },
  {
   "cell_type": "code",
   "execution_count": null,
   "metadata": {},
   "outputs": [],
   "source": [
    "a = 5"
   ]
  },
  {
   "cell_type": "markdown",
   "metadata": {},
   "source": [
    "Note that no output is produced when you run the previous cell. However, the value of a is saved and is available in other cells:"
   ]
  },
  {
   "cell_type": "code",
   "execution_count": null,
   "metadata": {},
   "outputs": [],
   "source": [
    "a * a"
   ]
  },
  {
   "cell_type": "markdown",
   "metadata": {},
   "source": [
    "This is useful because it means that we can put `import` statements and the time-consuming reading of large data sources in one cell (usually) at the start of the notebook and experiment with manipulations of that data in later cells without having the wait to reload the data.\n",
    "\n",
    "The caveat to this is that each cell is executed when you run it so you could accidentally or willfully run cells out of order. For example:"
   ]
  },
  {
   "cell_type": "code",
   "execution_count": null,
   "metadata": {},
   "outputs": [],
   "source": [
    "# Run this cell once\n",
    "my_list = [\"red\", \"green\", \"blue\"]"
   ]
  },
  {
   "cell_type": "code",
   "execution_count": null,
   "metadata": {},
   "outputs": [],
   "source": [
    "# Run this cell twice\n",
    "my_list.append(\"purple\")"
   ]
  },
  {
   "cell_type": "code",
   "execution_count": null,
   "metadata": {},
   "outputs": [],
   "source": [
    "# Run this cell once\n",
    "print(my_list)"
   ]
  },
  {
   "cell_type": "markdown",
   "metadata": {},
   "source": [
    "Notice that `my_list` contains 'purple' twice even the code above only adds it once. In general, you should write your code assuming that each cell is run once from top to bottom. There's even a menu to help you do that. The \"Run\" menu has \"Run All Above Selected Cell\" and \"Run all cells\" functions that allow you to get your notebook in a predictable state if you ever get confused by having run cells multiple times or out of order."
   ]
  },
  {
   "cell_type": "code",
   "execution_count": null,
   "metadata": {},
   "outputs": [],
   "source": []
  }
 ],
 "metadata": {
  "kernelspec": {
   "display_name": "Python 3",
   "language": "python",
   "name": "python3"
  },
  "language_info": {
   "codemirror_mode": {
    "name": "ipython",
    "version": 3
   },
   "file_extension": ".py",
   "mimetype": "text/x-python",
   "name": "python",
   "nbconvert_exporter": "python",
   "pygments_lexer": "ipython3",
   "version": "3.6.7"
  }
 },
 "nbformat": 4,
 "nbformat_minor": 2
}
